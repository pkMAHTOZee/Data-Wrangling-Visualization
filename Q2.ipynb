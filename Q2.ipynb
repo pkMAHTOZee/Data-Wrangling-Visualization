{
 "cells": [
  {
   "cell_type": "markdown",
   "id": "6ce89fb9",
   "metadata": {},
   "source": [
    "## Create a random vector of size 30 and find the mean value."
   ]
  },
  {
   "cell_type": "code",
   "execution_count": 23,
   "id": "365e2d73",
   "metadata": {},
   "outputs": [
    {
     "name": "stdout",
     "output_type": "stream",
     "text": [
      "[67 84  5 90  8 83 63 48 85 60 49 74 27 13  9 61 15 93 98 59 18 14 93 56\n",
      "  9 51 68 53 53 71]\n",
      "52.56666666666667\n"
     ]
    }
   ],
   "source": [
    "import numpy as np\n",
    "np.random.seed(8)\n",
    "arr=np.random.randint(0,100,30)\n",
    "print(arr)\n",
    "print(np.mean(arr,axis=0))"
   ]
  },
  {
   "cell_type": "code",
   "execution_count": null,
   "id": "77913b5a",
   "metadata": {},
   "outputs": [],
   "source": []
  }
 ],
 "metadata": {
  "kernelspec": {
   "display_name": "Python 3",
   "language": "python",
   "name": "python3"
  },
  "language_info": {
   "codemirror_mode": {
    "name": "ipython",
    "version": 3
   },
   "file_extension": ".py",
   "mimetype": "text/x-python",
   "name": "python",
   "nbconvert_exporter": "python",
   "pygments_lexer": "ipython3",
   "version": "3.9.5"
  }
 },
 "nbformat": 4,
 "nbformat_minor": 5
}
