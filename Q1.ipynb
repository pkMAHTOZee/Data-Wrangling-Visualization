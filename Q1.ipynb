{
 "cells": [
  {
   "cell_type": "markdown",
   "id": "406988d6",
   "metadata": {},
   "source": [
    "## Use numpy to generate array of 25 random numbers sampled from a standard normal distribution"
   ]
  },
  {
   "cell_type": "code",
   "execution_count": 7,
   "id": "b8002fa7",
   "metadata": {},
   "outputs": [
    {
     "name": "stdout",
     "output_type": "stream",
     "text": [
      "[ 0.76249402  1.43921955 -0.00851223 -1.44880227 -0.27123157  0.57809438\n",
      "  2.14982229 -1.63507662 -0.01977917  0.18644988  0.37375445 -1.63664056\n",
      " -0.76347245 -0.51130437  0.94550258  0.03210868 -0.43181634 -0.43655872\n",
      "  0.99303946  1.42992422  0.60078051 -0.7822674  -0.91155309 -1.98840315\n",
      "  0.87907293]\n"
     ]
    }
   ],
   "source": [
    "import numpy as np\n",
    "arr=np.random.randn(25)\n",
    "print(arr)"
   ]
  }
 ],
 "metadata": {
  "kernelspec": {
   "display_name": "Python 3",
   "language": "python",
   "name": "python3"
  },
  "language_info": {
   "codemirror_mode": {
    "name": "ipython",
    "version": 3
   },
   "file_extension": ".py",
   "mimetype": "text/x-python",
   "name": "python",
   "nbconvert_exporter": "python",
   "pygments_lexer": "ipython3",
   "version": "3.9.5"
  }
 },
 "nbformat": 4,
 "nbformat_minor": 5
}
