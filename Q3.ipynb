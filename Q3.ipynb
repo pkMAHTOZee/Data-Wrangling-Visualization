{
 "cells": [
  {
   "cell_type": "markdown",
   "id": "1c03bb09",
   "metadata": {},
   "source": [
    "## Insert 1 to 100 numbers in a numpy array and reshape it to 10*10 matrix.\n"
   ]
  },
  {
   "cell_type": "code",
   "execution_count": 17,
   "id": "3d9b4cc1",
   "metadata": {},
   "outputs": [
    {
     "name": "stdout",
     "output_type": "stream",
     "text": [
      "[68 85  6 91  9 84 64 49 86 61 50 75 28 14 10 62 16 94 99 60 19 15 94 57\n",
      " 10 52 69 54 54 72 60 43 27 67 10 82 16 93 92 64 87 32 21 46 22 73 93 29\n",
      " 96 48 11 65  8 46  3 39 72 96 37 90 61 92 69 38 67 83 39 55 87 40 47  7\n",
      " 96 33 74 99  8 10 99 43 20 60 49 10 17 79 56 56 21 99 88 99 25  7 29  6\n",
      " 67 20 76 12]\n",
      "after reshape\n",
      " [[68 85  6 91  9 84 64 49 86 61]\n",
      " [50 75 28 14 10 62 16 94 99 60]\n",
      " [19 15 94 57 10 52 69 54 54 72]\n",
      " [60 43 27 67 10 82 16 93 92 64]\n",
      " [87 32 21 46 22 73 93 29 96 48]\n",
      " [11 65  8 46  3 39 72 96 37 90]\n",
      " [61 92 69 38 67 83 39 55 87 40]\n",
      " [47  7 96 33 74 99  8 10 99 43]\n",
      " [20 60 49 10 17 79 56 56 21 99]\n",
      " [88 99 25  7 29  6 67 20 76 12]]\n"
     ]
    }
   ],
   "source": [
    "import numpy as np\n",
    "np.random.seed(8)\n",
    "arr=np.random.randint(1,100,100)\n",
    "print(arr)\n",
    "arr1=arr.reshape((10,10))\n",
    "print(\"after reshape\\n\",arr1)"
   ]
  },
  {
   "cell_type": "code",
   "execution_count": null,
   "id": "f0c6e1b3",
   "metadata": {},
   "outputs": [],
   "source": []
  }
 ],
 "metadata": {
  "kernelspec": {
   "display_name": "Python 3",
   "language": "python",
   "name": "python3"
  },
  "language_info": {
   "codemirror_mode": {
    "name": "ipython",
    "version": 3
   },
   "file_extension": ".py",
   "mimetype": "text/x-python",
   "name": "python",
   "nbconvert_exporter": "python",
   "pygments_lexer": "ipython3",
   "version": "3.9.5"
  }
 },
 "nbformat": 4,
 "nbformat_minor": 5
}
