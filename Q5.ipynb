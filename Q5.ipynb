{
 "cells": [
  {
   "cell_type": "markdown",
   "id": "8127e9f5",
   "metadata": {},
   "source": [
    "## Find Dot product of two arrays\n"
   ]
  },
  {
   "cell_type": "code",
   "execution_count": 4,
   "id": "8e6b4217",
   "metadata": {},
   "outputs": [
    {
     "name": "stdout",
     "output_type": "stream",
     "text": [
      "14\n"
     ]
    }
   ],
   "source": [
    "import numpy as np\n",
    "f = np.array([1,2])\n",
    "g = np.array([4,5])\n",
    "print(np.dot(f,g))"
   ]
  }
 ],
 "metadata": {
  "kernelspec": {
   "display_name": "Python 3",
   "language": "python",
   "name": "python3"
  },
  "language_info": {
   "codemirror_mode": {
    "name": "ipython",
    "version": 3
   },
   "file_extension": ".py",
   "mimetype": "text/x-python",
   "name": "python",
   "nbconvert_exporter": "python",
   "pygments_lexer": "ipython3",
   "version": "3.9.5"
  }
 },
 "nbformat": 4,
 "nbformat_minor": 5
}
