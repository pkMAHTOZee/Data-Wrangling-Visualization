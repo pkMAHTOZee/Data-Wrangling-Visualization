{
 "cells": [
  {
   "cell_type": "markdown",
   "id": "579feb3f",
   "metadata": {},
   "source": [
    "## Sort the numpy array:"
   ]
  },
  {
   "cell_type": "code",
   "execution_count": 5,
   "id": "3819a245",
   "metadata": {},
   "outputs": [
    {
     "name": "stdout",
     "output_type": "stream",
     "text": [
      "[ 1  2  3  4  5  7  8 10]\n"
     ]
    }
   ],
   "source": [
    "import numpy as np\n",
    "arr = np.array([10,5,8,4,7,2,3,1])\n",
    "arr.sort()\n",
    "print(np.sort(arr))"
   ]
  }
 ],
 "metadata": {
  "kernelspec": {
   "display_name": "Python 3",
   "language": "python",
   "name": "python3"
  },
  "language_info": {
   "codemirror_mode": {
    "name": "ipython",
    "version": 3
   },
   "file_extension": ".py",
   "mimetype": "text/x-python",
   "name": "python",
   "nbconvert_exporter": "python",
   "pygments_lexer": "ipython3",
   "version": "3.9.5"
  }
 },
 "nbformat": 4,
 "nbformat_minor": 5
}
